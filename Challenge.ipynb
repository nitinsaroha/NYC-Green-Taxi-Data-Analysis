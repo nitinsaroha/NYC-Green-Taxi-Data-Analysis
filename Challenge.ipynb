{
 "cells": [
  {
   "cell_type": "markdown",
   "metadata": {},
   "source": [
    "# Capital One Challenge - Nitin Saroha"
   ]
  },
  {
   "cell_type": "markdown",
   "metadata": {},
   "source": [
    "# Question 1"
   ]
  },
  {
   "cell_type": "markdown",
   "metadata": {},
   "source": [
    "## Part-1 - Programmatically download and load the trip data for September 2015."
   ]
  },
  {
   "cell_type": "code",
   "execution_count": 1,
   "metadata": {
    "collapsed": false
   },
   "outputs": [
    {
     "name": "stderr",
     "output_type": "stream",
     "text": [
      "/home/deadbacon/anaconda2/lib/python2.7/site-packages/sklearn/cross_validation.py:44: DeprecationWarning: This module was deprecated in version 0.18 in favor of the model_selection module into which all the refactored classes and functions are moved. Also note that the interface of the new CV iterators are different from that of this module. This module will be removed in 0.20.\n",
      "  \"This module will be removed in 0.20.\", DeprecationWarning)\n"
     ]
    }
   ],
   "source": [
    "%matplotlib inline\n",
    "import requests\n",
    "import pandas as pd\n",
    "import numpy as np\n",
    "import matplotlib\n",
    "import matplotlib.pyplot as plt\n",
    "from sklearn.datasets import load_boston\n",
    "from sklearn.ensemble import RandomForestRegressor\n",
    "from sklearn.pipeline import Pipeline\n",
    "from sklearn.preprocessing import Imputer\n",
    "from sklearn.model_selection import cross_val_score\n",
    "from sklearn.cross_validation import train_test_split\n",
    "matplotlib.style.use('ggplot')\n",
    "# pd.set_option('display.max_columns', None)"
   ]
  },
  {
   "cell_type": "code",
   "execution_count": 2,
   "metadata": {
    "collapsed": false
   },
   "outputs": [],
   "source": [
    "# Helper function to download file\n",
    "def download_file(url, filename):\n",
    "    try:\n",
    "        r = requests.get(url)\n",
    "        r.raise_for_status()\n",
    "        if r.status_code == requests.codes.ok:\n",
    "            with open(filename, 'wb') as f:\n",
    "                f.write(r.content)\n",
    "    except requests.exceptions.HTTPError as err:\n",
    "        print(err)\n",
    "\n"
   ]
  },
  {
   "cell_type": "code",
   "execution_count": 3,
   "metadata": {
    "collapsed": true
   },
   "outputs": [],
   "source": [
    "# Link to data\n",
    "input_url = \"https://s3.amazonaws.com/nyc-tlc/trip+data/green_tripdata_2015-09.csv\"\n",
    "# filename where the data will be stores\n",
    "local_filename = \"green_trip_september_2015.csv\"\n",
    "\n",
    "# Dwonload file\n",
    "download_file(input_url, local_filename)\n",
    "\n",
    "# Read the data into dataframe\n",
    "df = pd.read_csv(local_filename)"
   ]
  },
  {
   "cell_type": "markdown",
   "metadata": {},
   "source": [
    "## Part-2 - Number of rows and columns of data loaded."
   ]
  },
  {
   "cell_type": "code",
   "execution_count": 4,
   "metadata": {
    "collapsed": false
   },
   "outputs": [
    {
     "name": "stdout",
     "output_type": "stream",
     "text": [
      "Number of rows loaded: 1494926\n",
      "Number of columns loaded: 21\n"
     ]
    }
   ],
   "source": [
    "# fastest way to check for number of rows or columns\n",
    "num_rows = len(df.index)\n",
    "num_columns = len(df.columns)\n",
    "\n",
    "print(\"Number of rows loaded: {}\".format(num_rows))\n",
    "print(\"Number of columns loaded: {}\".format(num_columns))"
   ]
  },
  {
   "cell_type": "markdown",
   "metadata": {},
   "source": [
    "# Question 2"
   ]
  },
  {
   "cell_type": "markdown",
   "metadata": {},
   "source": [
    "## Plot a histogram of the number of the trip distance (\"Trip Distance\")."
   ]
  },
  {
   "cell_type": "code",
   "execution_count": 5,
   "metadata": {
    "collapsed": false
   },
   "outputs": [
    {
     "name": "stdout",
     "output_type": "stream",
     "text": [
      "Total Samples: 1494926\n"
     ]
    }
   ],
   "source": [
    "# Make a copy to not change original input dataframe\n",
    "df_trip_distance = df.copy()\n",
    "print(\"Total Samples: {}\".format(len(df_trip_distance.index)))"
   ]
  },
  {
   "cell_type": "markdown",
   "metadata": {},
   "source": [
    "### Plotting histogram plot"
   ]
  },
  {
   "cell_type": "markdown",
   "metadata": {},
   "source": [
    "### Plotting for less values as with 1.5 million records it is really hard to see any structure"
   ]
  },
  {
   "cell_type": "code",
   "execution_count": 10,
   "metadata": {
    "collapsed": false
   },
   "outputs": [],
   "source": [
    "df_trip_distance = df_trip_distance[:10000]"
   ]
  },
  {
   "cell_type": "code",
   "execution_count": 11,
   "metadata": {
    "collapsed": false,
    "scrolled": false
   },
   "outputs": [
    {
     "data": {
      "image/png": "[encoded data removed]",
      "text/plain": [
       "<matplotlib.figure.Figure at 0x7f0d6ba37290>"
      ]
     },
     "metadata": {},
     "output_type": "display_data"
    }
   ],
   "source": [
    "plt.hist(df_trip_distance.Trip_distance)\n",
    "plt.ylabel('Number of Trips')\n",
    "plt.xlabel('Trip Distance')\n",
    "plt.show()"
   ]
  },
  {
   "cell_type": "markdown",
   "metadata": {},
   "source": [
    "### We can say that in NYC most of the trips are less than 10 miles"
   ]
  },
  {
   "cell_type": "markdown",
   "metadata": {},
   "source": [
    "# Question 3"
   ]
  },
  {
   "cell_type": "markdown",
   "metadata": {},
   "source": [
    "## Part-1 - Report mean and median trip distance grouped by hour of day."
   ]
  },
  {
   "cell_type": "code",
   "execution_count": 12,
   "metadata": {
    "collapsed": false
   },
   "outputs": [],
   "source": [
    "# Make a copy so that we don't change the original data frame\n",
    "df_time = df.copy()\n",
    "\n",
    "# Helper function to get hour of pickup datetime attribute\n",
    "def get_hour(x):\n",
    "    return x.split(' ')[1].split(':')[0]\n"
   ]
  },
  {
   "cell_type": "markdown",
   "metadata": {},
   "source": [
    "### Mean Trip Distance grouped by hour of day."
   ]
  },
  {
   "cell_type": "code",
   "execution_count": 13,
   "metadata": {
    "collapsed": false,
    "scrolled": true
   },
   "outputs": [
    {
     "data": {
      "text/html": [
       "<div>\n",
       "<table border=\"1\" class=\"dataframe\">\n",
       "  <thead>\n",
       "    <tr style=\"text-align: right;\">\n",
       "      <th></th>\n",
       "      <th>Hour</th>\n",
       "      <th>Trip_distance</th>\n",
       "    </tr>\n",
       "  </thead>\n",
       "  <tbody>\n",
       "    <tr>\n",
       "      <th>0</th>\n",
       "      <td>00</td>\n",
       "      <td>3.115276</td>\n",
       "    </tr>\n",
       "    <tr>\n",
       "      <th>1</th>\n",
       "      <td>01</td>\n",
       "      <td>3.017347</td>\n",
       "    </tr>\n",
       "    <tr>\n",
       "      <th>2</th>\n",
       "      <td>02</td>\n",
       "      <td>3.046176</td>\n",
       "    </tr>\n",
       "    <tr>\n",
       "      <th>3</th>\n",
       "      <td>03</td>\n",
       "      <td>3.212945</td>\n",
       "    </tr>\n",
       "    <tr>\n",
       "      <th>4</th>\n",
       "      <td>04</td>\n",
       "      <td>3.526555</td>\n",
       "    </tr>\n",
       "    <tr>\n",
       "      <th>5</th>\n",
       "      <td>05</td>\n",
       "      <td>4.133474</td>\n",
       "    </tr>\n",
       "    <tr>\n",
       "      <th>6</th>\n",
       "      <td>06</td>\n",
       "      <td>4.055149</td>\n",
       "    </tr>\n",
       "    <tr>\n",
       "      <th>7</th>\n",
       "      <td>07</td>\n",
       "      <td>3.284394</td>\n",
       "    </tr>\n",
       "    <tr>\n",
       "      <th>8</th>\n",
       "      <td>08</td>\n",
       "      <td>3.048450</td>\n",
       "    </tr>\n",
       "    <tr>\n",
       "      <th>9</th>\n",
       "      <td>09</td>\n",
       "      <td>2.999105</td>\n",
       "    </tr>\n",
       "    <tr>\n",
       "      <th>10</th>\n",
       "      <td>10</td>\n",
       "      <td>2.944482</td>\n",
       "    </tr>\n",
       "    <tr>\n",
       "      <th>11</th>\n",
       "      <td>11</td>\n",
       "      <td>2.912015</td>\n",
       "    </tr>\n",
       "    <tr>\n",
       "      <th>12</th>\n",
       "      <td>12</td>\n",
       "      <td>2.903065</td>\n",
       "    </tr>\n",
       "    <tr>\n",
       "      <th>13</th>\n",
       "      <td>13</td>\n",
       "      <td>2.878294</td>\n",
       "    </tr>\n",
       "    <tr>\n",
       "      <th>14</th>\n",
       "      <td>14</td>\n",
       "      <td>2.864304</td>\n",
       "    </tr>\n",
       "    <tr>\n",
       "      <th>15</th>\n",
       "      <td>15</td>\n",
       "      <td>2.857040</td>\n",
       "    </tr>\n",
       "    <tr>\n",
       "      <th>16</th>\n",
       "      <td>16</td>\n",
       "      <td>2.779852</td>\n",
       "    </tr>\n",
       "    <tr>\n",
       "      <th>17</th>\n",
       "      <td>17</td>\n",
       "      <td>2.679114</td>\n",
       "    </tr>\n",
       "    <tr>\n",
       "      <th>18</th>\n",
       "      <td>18</td>\n",
       "      <td>2.653222</td>\n",
       "    </tr>\n",
       "    <tr>\n",
       "      <th>19</th>\n",
       "      <td>19</td>\n",
       "      <td>2.715597</td>\n",
       "    </tr>\n",
       "    <tr>\n",
       "      <th>20</th>\n",
       "      <td>20</td>\n",
       "      <td>2.777052</td>\n",
       "    </tr>\n",
       "    <tr>\n",
       "      <th>21</th>\n",
       "      <td>21</td>\n",
       "      <td>2.999189</td>\n",
       "    </tr>\n",
       "    <tr>\n",
       "      <th>22</th>\n",
       "      <td>22</td>\n",
       "      <td>3.185394</td>\n",
       "    </tr>\n",
       "    <tr>\n",
       "      <th>23</th>\n",
       "      <td>23</td>\n",
       "      <td>3.191538</td>\n",
       "    </tr>\n",
       "  </tbody>\n",
       "</table>\n",
       "</div>"
      ],
      "text/plain": [
       "   Hour  Trip_distance\n",
       "0    00       3.115276\n",
       "1    01       3.017347\n",
       "2    02       3.046176\n",
       "3    03       3.212945\n",
       "4    04       3.526555\n",
       "5    05       4.133474\n",
       "6    06       4.055149\n",
       "7    07       3.284394\n",
       "8    08       3.048450\n",
       "9    09       2.999105\n",
       "10   10       2.944482\n",
       "11   11       2.912015\n",
       "12   12       2.903065\n",
       "13   13       2.878294\n",
       "14   14       2.864304\n",
       "15   15       2.857040\n",
       "16   16       2.779852\n",
       "17   17       2.679114\n",
       "18   18       2.653222\n",
       "19   19       2.715597\n",
       "20   20       2.777052\n",
       "21   21       2.999189\n",
       "22   22       3.185394\n",
       "23   23       3.191538"
      ]
     },
     "execution_count": 13,
     "metadata": {},
     "output_type": "execute_result"
    }
   ],
   "source": [
    "pd.DataFrame(df_time.groupby(df_time['lpep_pickup_datetime'].apply(get_hour))\n",
    "                 ['Trip_distance'].mean()).reset_index().rename(columns = {'lpep_pickup_datetime':'Hour'})"
   ]
  },
  {
   "cell_type": "markdown",
   "metadata": {},
   "source": [
    "### Median Trip Distance grouped by hour of day."
   ]
  },
  {
   "cell_type": "code",
   "execution_count": 14,
   "metadata": {
    "collapsed": false,
    "scrolled": true
   },
   "outputs": [
    {
     "data": {
      "text/html": [
       "<div>\n",
       "<table border=\"1\" class=\"dataframe\">\n",
       "  <thead>\n",
       "    <tr style=\"text-align: right;\">\n",
       "      <th></th>\n",
       "      <th>Hour</th>\n",
       "      <th>Trip_distance</th>\n",
       "    </tr>\n",
       "  </thead>\n",
       "  <tbody>\n",
       "    <tr>\n",
       "      <th>0</th>\n",
       "      <td>00</td>\n",
       "      <td>2.20</td>\n",
       "    </tr>\n",
       "    <tr>\n",
       "      <th>1</th>\n",
       "      <td>01</td>\n",
       "      <td>2.12</td>\n",
       "    </tr>\n",
       "    <tr>\n",
       "      <th>2</th>\n",
       "      <td>02</td>\n",
       "      <td>2.14</td>\n",
       "    </tr>\n",
       "    <tr>\n",
       "      <th>3</th>\n",
       "      <td>03</td>\n",
       "      <td>2.20</td>\n",
       "    </tr>\n",
       "    <tr>\n",
       "      <th>4</th>\n",
       "      <td>04</td>\n",
       "      <td>2.36</td>\n",
       "    </tr>\n",
       "    <tr>\n",
       "      <th>5</th>\n",
       "      <td>05</td>\n",
       "      <td>2.90</td>\n",
       "    </tr>\n",
       "    <tr>\n",
       "      <th>6</th>\n",
       "      <td>06</td>\n",
       "      <td>2.84</td>\n",
       "    </tr>\n",
       "    <tr>\n",
       "      <th>7</th>\n",
       "      <td>07</td>\n",
       "      <td>2.17</td>\n",
       "    </tr>\n",
       "    <tr>\n",
       "      <th>8</th>\n",
       "      <td>08</td>\n",
       "      <td>1.98</td>\n",
       "    </tr>\n",
       "    <tr>\n",
       "      <th>9</th>\n",
       "      <td>09</td>\n",
       "      <td>1.96</td>\n",
       "    </tr>\n",
       "    <tr>\n",
       "      <th>10</th>\n",
       "      <td>10</td>\n",
       "      <td>1.92</td>\n",
       "    </tr>\n",
       "    <tr>\n",
       "      <th>11</th>\n",
       "      <td>11</td>\n",
       "      <td>1.88</td>\n",
       "    </tr>\n",
       "    <tr>\n",
       "      <th>12</th>\n",
       "      <td>12</td>\n",
       "      <td>1.89</td>\n",
       "    </tr>\n",
       "    <tr>\n",
       "      <th>13</th>\n",
       "      <td>13</td>\n",
       "      <td>1.84</td>\n",
       "    </tr>\n",
       "    <tr>\n",
       "      <th>14</th>\n",
       "      <td>14</td>\n",
       "      <td>1.83</td>\n",
       "    </tr>\n",
       "    <tr>\n",
       "      <th>15</th>\n",
       "      <td>15</td>\n",
       "      <td>1.81</td>\n",
       "    </tr>\n",
       "    <tr>\n",
       "      <th>16</th>\n",
       "      <td>16</td>\n",
       "      <td>1.80</td>\n",
       "    </tr>\n",
       "    <tr>\n",
       "      <th>17</th>\n",
       "      <td>17</td>\n",
       "      <td>1.78</td>\n",
       "    </tr>\n",
       "    <tr>\n",
       "      <th>18</th>\n",
       "      <td>18</td>\n",
       "      <td>1.80</td>\n",
       "    </tr>\n",
       "    <tr>\n",
       "      <th>19</th>\n",
       "      <td>19</td>\n",
       "      <td>1.85</td>\n",
       "    </tr>\n",
       "    <tr>\n",
       "      <th>20</th>\n",
       "      <td>20</td>\n",
       "      <td>1.90</td>\n",
       "    </tr>\n",
       "    <tr>\n",
       "      <th>21</th>\n",
       "      <td>21</td>\n",
       "      <td>2.03</td>\n",
       "    </tr>\n",
       "    <tr>\n",
       "      <th>22</th>\n",
       "      <td>22</td>\n",
       "      <td>2.20</td>\n",
       "    </tr>\n",
       "    <tr>\n",
       "      <th>23</th>\n",
       "      <td>23</td>\n",
       "      <td>2.22</td>\n",
       "    </tr>\n",
       "  </tbody>\n",
       "</table>\n",
       "</div>"
      ],
      "text/plain": [
       "   Hour  Trip_distance\n",
       "0    00           2.20\n",
       "1    01           2.12\n",
       "2    02           2.14\n",
       "3    03           2.20\n",
       "4    04           2.36\n",
       "5    05           2.90\n",
       "6    06           2.84\n",
       "7    07           2.17\n",
       "8    08           1.98\n",
       "9    09           1.96\n",
       "10   10           1.92\n",
       "11   11           1.88\n",
       "12   12           1.89\n",
       "13   13           1.84\n",
       "14   14           1.83\n",
       "15   15           1.81\n",
       "16   16           1.80\n",
       "17   17           1.78\n",
       "18   18           1.80\n",
       "19   19           1.85\n",
       "20   20           1.90\n",
       "21   21           2.03\n",
       "22   22           2.20\n",
       "23   23           2.22"
      ]
     },
     "execution_count": 14,
     "metadata": {},
     "output_type": "execute_result"
    }
   ],
   "source": [
    "pd.DataFrame(df_time.groupby(df_time['lpep_pickup_datetime'].apply(get_hour))\n",
    "                 ['Trip_distance'].median()).reset_index().rename(columns = {'lpep_pickup_datetime':'Hour'})"
   ]
  },
  {
   "cell_type": "markdown",
   "metadata": {},
   "source": [
    "## Part-2 - Identifying trips that originate or terminate at one of the NYC area airports and finding the count of how many transactions fit this criteria, the average fair, and any other interesting characteristics of these trips."
   ]
  },
  {
   "cell_type": "markdown",
   "metadata": {},
   "source": [
    "### By what I understood, to get the NYC area airports data we can check for feature column RateCodeID = 2,3,4. According to Data Dictionary :- 2 = JFK, 3 = Newark, 4 = Westchester ."
   ]
  },
  {
   "cell_type": "markdown",
   "metadata": {},
   "source": [
    "### Rough sense of identifying trips that originate or terminate at one of the NYC area airports"
   ]
  },
  {
   "cell_type": "code",
   "execution_count": 15,
   "metadata": {
    "collapsed": false,
    "scrolled": true
   },
   "outputs": [
    {
     "data": {
      "text/html": [
       "<div>\n",
       "<table border=\"1\" class=\"dataframe\">\n",
       "  <thead>\n",
       "    <tr style=\"text-align: right;\">\n",
       "      <th></th>\n",
       "      <th>VendorID</th>\n",
       "      <th>lpep_pickup_datetime</th>\n",
       "      <th>Lpep_dropoff_datetime</th>\n",
       "      <th>Store_and_fwd_flag</th>\n",
       "      <th>RateCodeID</th>\n",
       "      <th>Pickup_longitude</th>\n",
       "      <th>Pickup_latitude</th>\n",
       "      <th>Dropoff_longitude</th>\n",
       "      <th>Dropoff_latitude</th>\n",
       "      <th>Passenger_count</th>\n",
       "      <th>...</th>\n",
       "      <th>Fare_amount</th>\n",
       "      <th>Extra</th>\n",
       "      <th>MTA_tax</th>\n",
       "      <th>Tip_amount</th>\n",
       "      <th>Tolls_amount</th>\n",
       "      <th>Ehail_fee</th>\n",
       "      <th>improvement_surcharge</th>\n",
       "      <th>Total_amount</th>\n",
       "      <th>Payment_type</th>\n",
       "      <th>Trip_type</th>\n",
       "    </tr>\n",
       "  </thead>\n",
       "  <tbody>\n",
       "    <tr>\n",
       "      <th>31</th>\n",
       "      <td>2</td>\n",
       "      <td>2015-09-01 00:07:12</td>\n",
       "      <td>2015-09-01 00:07:27</td>\n",
       "      <td>N</td>\n",
       "      <td>2</td>\n",
       "      <td>-73.844269</td>\n",
       "      <td>40.755165</td>\n",
       "      <td>-73.844650</td>\n",
       "      <td>40.755058</td>\n",
       "      <td>1</td>\n",
       "      <td>...</td>\n",
       "      <td>52.0</td>\n",
       "      <td>0.0</td>\n",
       "      <td>0.5</td>\n",
       "      <td>0.0</td>\n",
       "      <td>0.0</td>\n",
       "      <td>NaN</td>\n",
       "      <td>0.3</td>\n",
       "      <td>52.8</td>\n",
       "      <td>2</td>\n",
       "      <td>1.0</td>\n",
       "    </tr>\n",
       "    <tr>\n",
       "      <th>146</th>\n",
       "      <td>2</td>\n",
       "      <td>2015-09-01 00:21:08</td>\n",
       "      <td>2015-09-01 00:21:12</td>\n",
       "      <td>N</td>\n",
       "      <td>2</td>\n",
       "      <td>-73.930214</td>\n",
       "      <td>40.677612</td>\n",
       "      <td>-73.930214</td>\n",
       "      <td>40.677673</td>\n",
       "      <td>1</td>\n",
       "      <td>...</td>\n",
       "      <td>52.0</td>\n",
       "      <td>0.0</td>\n",
       "      <td>0.5</td>\n",
       "      <td>0.0</td>\n",
       "      <td>0.0</td>\n",
       "      <td>NaN</td>\n",
       "      <td>0.3</td>\n",
       "      <td>52.8</td>\n",
       "      <td>2</td>\n",
       "      <td>1.0</td>\n",
       "    </tr>\n",
       "    <tr>\n",
       "      <th>846</th>\n",
       "      <td>2</td>\n",
       "      <td>2015-09-01 00:57:46</td>\n",
       "      <td>2015-09-01 01:05:49</td>\n",
       "      <td>N</td>\n",
       "      <td>4</td>\n",
       "      <td>-73.735146</td>\n",
       "      <td>40.713020</td>\n",
       "      <td>-73.690865</td>\n",
       "      <td>40.704685</td>\n",
       "      <td>1</td>\n",
       "      <td>...</td>\n",
       "      <td>16.0</td>\n",
       "      <td>0.5</td>\n",
       "      <td>0.5</td>\n",
       "      <td>0.0</td>\n",
       "      <td>0.0</td>\n",
       "      <td>NaN</td>\n",
       "      <td>0.3</td>\n",
       "      <td>17.3</td>\n",
       "      <td>2</td>\n",
       "      <td>1.0</td>\n",
       "    </tr>\n",
       "    <tr>\n",
       "      <th>902</th>\n",
       "      <td>2</td>\n",
       "      <td>2015-09-01 00:14:55</td>\n",
       "      <td>2015-09-01 00:15:11</td>\n",
       "      <td>N</td>\n",
       "      <td>2</td>\n",
       "      <td>-73.946716</td>\n",
       "      <td>40.714317</td>\n",
       "      <td>-73.944954</td>\n",
       "      <td>40.714466</td>\n",
       "      <td>2</td>\n",
       "      <td>...</td>\n",
       "      <td>52.0</td>\n",
       "      <td>0.0</td>\n",
       "      <td>0.5</td>\n",
       "      <td>0.0</td>\n",
       "      <td>0.0</td>\n",
       "      <td>NaN</td>\n",
       "      <td>0.3</td>\n",
       "      <td>52.8</td>\n",
       "      <td>2</td>\n",
       "      <td>1.0</td>\n",
       "    </tr>\n",
       "    <tr>\n",
       "      <th>961</th>\n",
       "      <td>2</td>\n",
       "      <td>2015-09-01 00:14:55</td>\n",
       "      <td>2015-09-01 00:15:11</td>\n",
       "      <td>N</td>\n",
       "      <td>2</td>\n",
       "      <td>-73.946716</td>\n",
       "      <td>40.714317</td>\n",
       "      <td>-73.944954</td>\n",
       "      <td>40.714466</td>\n",
       "      <td>2</td>\n",
       "      <td>...</td>\n",
       "      <td>-52.0</td>\n",
       "      <td>0.0</td>\n",
       "      <td>-0.5</td>\n",
       "      <td>0.0</td>\n",
       "      <td>0.0</td>\n",
       "      <td>NaN</td>\n",
       "      <td>-0.3</td>\n",
       "      <td>-52.8</td>\n",
       "      <td>4</td>\n",
       "      <td>1.0</td>\n",
       "    </tr>\n",
       "  </tbody>\n",
       "</table>\n",
       "<p>5 rows × 21 columns</p>\n",
       "</div>"
      ],
      "text/plain": [
       "     VendorID lpep_pickup_datetime Lpep_dropoff_datetime Store_and_fwd_flag  \\\n",
       "31          2  2015-09-01 00:07:12   2015-09-01 00:07:27                  N   \n",
       "146         2  2015-09-01 00:21:08   2015-09-01 00:21:12                  N   \n",
       "846         2  2015-09-01 00:57:46   2015-09-01 01:05:49                  N   \n",
       "902         2  2015-09-01 00:14:55   2015-09-01 00:15:11                  N   \n",
       "961         2  2015-09-01 00:14:55   2015-09-01 00:15:11                  N   \n",
       "\n",
       "     RateCodeID  Pickup_longitude  Pickup_latitude  Dropoff_longitude  \\\n",
       "31            2        -73.844269        40.755165         -73.844650   \n",
       "146           2        -73.930214        40.677612         -73.930214   \n",
       "846           4        -73.735146        40.713020         -73.690865   \n",
       "902           2        -73.946716        40.714317         -73.944954   \n",
       "961           2        -73.946716        40.714317         -73.944954   \n",
       "\n",
       "     Dropoff_latitude  Passenger_count     ...      Fare_amount  Extra  \\\n",
       "31          40.755058                1     ...             52.0    0.0   \n",
       "146         40.677673                1     ...             52.0    0.0   \n",
       "846         40.704685                1     ...             16.0    0.5   \n",
       "902         40.714466                2     ...             52.0    0.0   \n",
       "961         40.714466                2     ...            -52.0    0.0   \n",
       "\n",
       "     MTA_tax  Tip_amount  Tolls_amount  Ehail_fee  improvement_surcharge  \\\n",
       "31       0.5         0.0           0.0        NaN                    0.3   \n",
       "146      0.5         0.0           0.0        NaN                    0.3   \n",
       "846      0.5         0.0           0.0        NaN                    0.3   \n",
       "902      0.5         0.0           0.0        NaN                    0.3   \n",
       "961     -0.5         0.0           0.0        NaN                   -0.3   \n",
       "\n",
       "     Total_amount  Payment_type  Trip_type   \n",
       "31           52.8             2         1.0  \n",
       "146          52.8             2         1.0  \n",
       "846          17.3             2         1.0  \n",
       "902          52.8             2         1.0  \n",
       "961         -52.8             4         1.0  \n",
       "\n",
       "[5 rows x 21 columns]"
      ]
     },
     "execution_count": 15,
     "metadata": {},
     "output_type": "execute_result"
    }
   ],
   "source": [
    "# Make a copy so that we don't change the original data frame\n",
    "df_airport = df.copy()\n",
    "# RateCodeID array\n",
    "codes = [2, 3, 4]\n",
    "# Filtering dataframe to contain rows only for the above mentioned RateCodeID\n",
    "df_airport = df_airport[df['RateCodeID'].isin(codes)]\n",
    "df_airport.head()"
   ]
  },
  {
   "cell_type": "markdown",
   "metadata": {},
   "source": [
    "### Count of how many transactions fit the criteria of trips originating at one of NYC area airports "
   ]
  },
  {
   "cell_type": "code",
   "execution_count": 16,
   "metadata": {
    "collapsed": false
   },
   "outputs": [
    {
     "name": "stdout",
     "output_type": "stream",
     "text": [
      "Number of transactions from or to NYC airports: 6477\n"
     ]
    }
   ],
   "source": [
    "num_trips = len(df_airport.index)\n",
    "print(\"Number of transactions from or to NYC airports: {}\".format(num_trips))"
   ]
  },
  {
   "cell_type": "markdown",
   "metadata": {},
   "source": [
    "### Average Fair of trips from or to NYC Airports and their comaprison to all trips"
   ]
  },
  {
   "cell_type": "code",
   "execution_count": 17,
   "metadata": {
    "collapsed": false
   },
   "outputs": [
    {
     "name": "stdout",
     "output_type": "stream",
     "text": [
      "Average fair of trips from or to NYC airports: 58.8591832639\n",
      "Average fair of all trips in New York City: 15.032145752\n"
     ]
    }
   ],
   "source": [
    "avg_fair_airport = df_airport['Total_amount'].mean()\n",
    "avg_fair_original = df['Total_amount'].mean()\n",
    "\n",
    "print(\"Average fair of trips from or to NYC airports: {}\".format(avg_fair_airport))\n",
    "print(\"Average fair of all trips in New York City: {}\".format(avg_fair_original))"
   ]
  },
  {
   "cell_type": "markdown",
   "metadata": {},
   "source": [
    "### Number of trips from or to all three airports to find the each airport's number of trips"
   ]
  },
  {
   "cell_type": "code",
   "execution_count": 18,
   "metadata": {
    "collapsed": false,
    "scrolled": true
   },
   "outputs": [
    {
     "name": "stdout",
     "output_type": "stream",
     "text": [
      "Number of trips from or to JFK Airport: 4435\n",
      "Number of trips from or to Newark Airport: 1117\n",
      "Number of trips from or to Westchester Airport: 925\n"
     ]
    }
   ],
   "source": [
    "# To get all data with a RateCodeID provided\n",
    "def num_trips_code(code):\n",
    "    return len(df_airport[df_airport['RateCodeID'] == code].index)\n",
    "    \n",
    "\n",
    "num_trips_jfk = num_trips_code(2)\n",
    "num_trips_newark = num_trips_code(3)\n",
    "num_trips_westchester = num_trips_code(4)\n",
    "\n",
    "print(\"Number of trips from or to JFK Airport: {}\".format(num_trips_jfk))\n",
    "print(\"Number of trips from or to Newark Airport: {}\".format(num_trips_newark))\n",
    "print(\"Number of trips from or to Westchester Airport: {}\".format(num_trips_westchester))"
   ]
  },
  {
   "cell_type": "markdown",
   "metadata": {},
   "source": [
    "# Question 4"
   ]
  },
  {
   "cell_type": "markdown",
   "metadata": {},
   "source": [
    "## Part-1 - Derived variable for tip as a percentage of the total fare.\n"
   ]
  },
  {
   "cell_type": "code",
   "execution_count": 19,
   "metadata": {
    "collapsed": false
   },
   "outputs": [],
   "source": [
    "# Make a copy so that we don't change the original data frame\n",
    "df_tip = df.copy()"
   ]
  },
  {
   "cell_type": "markdown",
   "metadata": {},
   "source": [
    "### Since cash payment does not have tips so we can remove those trips and do some some data cleaning"
   ]
  },
  {
   "cell_type": "code",
   "execution_count": 20,
   "metadata": {
    "collapsed": false
   },
   "outputs": [],
   "source": [
    "# Since cash payment doesnot inlcude tips we can remove those rows\n",
    "df_tip = df_tip[df_tip['Payment_type'] != 2]\n",
    "df_tip.head()\n",
    "# Filtering rows with Fare amount less then or equal to 0\n",
    "df_tip = df_tip[(df_tip['Fare_amount'] > 0)]\n"
   ]
  },
  {
   "cell_type": "markdown",
   "metadata": {
    "collapsed": false
   },
   "source": [
    "### So now after looking at the data many samples still have missing tip values. We can give those samples a median value of all tips as it will help us build a better model"
   ]
  },
  {
   "cell_type": "code",
   "execution_count": 21,
   "metadata": {
    "collapsed": false
   },
   "outputs": [],
   "source": [
    "mean_tip = df_tip['Tip_amount'].mean()\n",
    "# For tip  = 0 put median value of Tip_amount\n",
    "df_tip.Tip_amount[(df_tip.Tip_amount) == 0.0] = mean_tip"
   ]
  },
  {
   "cell_type": "markdown",
   "metadata": {},
   "source": [
    "### Let's now build our variable"
   ]
  },
  {
   "cell_type": "code",
   "execution_count": 22,
   "metadata": {
    "collapsed": false
   },
   "outputs": [],
   "source": [
    "# Tip amount calcluation\n",
    "def tip_percentage_computation(x):\n",
    "    return x['Tip_amount'] / (x['Fare_amount']) * 100\n",
    "\n",
    "df_tip['Tip_percentage'] = df_tip.apply(tip_percentage_computation, axis=1)"
   ]
  },
  {
   "cell_type": "code",
   "execution_count": 23,
   "metadata": {
    "collapsed": false
   },
   "outputs": [
    {
     "data": {
      "text/html": [
       "<div>\n",
       "<table border=\"1\" class=\"dataframe\">\n",
       "  <thead>\n",
       "    <tr style=\"text-align: right;\">\n",
       "      <th></th>\n",
       "      <th>Tip_amount</th>\n",
       "      <th>Fare_amount</th>\n",
       "      <th>Tip_percentage</th>\n",
       "    </tr>\n",
       "  </thead>\n",
       "  <tbody>\n",
       "    <tr>\n",
       "      <th>0</th>\n",
       "      <td>1.950000</td>\n",
       "      <td>7.8</td>\n",
       "      <td>25.000000</td>\n",
       "    </tr>\n",
       "    <tr>\n",
       "      <th>1</th>\n",
       "      <td>2.602622</td>\n",
       "      <td>45.0</td>\n",
       "      <td>5.783605</td>\n",
       "    </tr>\n",
       "    <tr>\n",
       "      <th>2</th>\n",
       "      <td>0.500000</td>\n",
       "      <td>4.0</td>\n",
       "      <td>12.500000</td>\n",
       "    </tr>\n",
       "    <tr>\n",
       "      <th>5</th>\n",
       "      <td>1.360000</td>\n",
       "      <td>5.5</td>\n",
       "      <td>24.727273</td>\n",
       "    </tr>\n",
       "    <tr>\n",
       "      <th>6</th>\n",
       "      <td>2.602622</td>\n",
       "      <td>6.5</td>\n",
       "      <td>40.040340</td>\n",
       "    </tr>\n",
       "  </tbody>\n",
       "</table>\n",
       "</div>"
      ],
      "text/plain": [
       "   Tip_amount  Fare_amount  Tip_percentage\n",
       "0    1.950000          7.8       25.000000\n",
       "1    2.602622         45.0        5.783605\n",
       "2    0.500000          4.0       12.500000\n",
       "5    1.360000          5.5       24.727273\n",
       "6    2.602622          6.5       40.040340"
      ]
     },
     "execution_count": 23,
     "metadata": {},
     "output_type": "execute_result"
    }
   ],
   "source": [
    "# Showing top 5 samples\n",
    "df_tip[['Tip_amount', 'Fare_amount', 'Tip_percentage']].head()"
   ]
  },
  {
   "cell_type": "markdown",
   "metadata": {},
   "source": [
    "## Part-2 - Build a model\n",
    "### Before building our model let's clean some data and drop features which are not required"
   ]
  },
  {
   "cell_type": "code",
   "execution_count": 24,
   "metadata": {
    "collapsed": false
   },
   "outputs": [],
   "source": [
    "# Trip distance should be atleast greater then zero\n",
    "df_tip = df_tip[(df_tip['Trip_distance'] > 0.0)]\n",
    "# Drop Ehail Fee colum as it contains NaN\n",
    "df_tip.drop('Ehail_fee', axis=1, inplace=True)\n",
    "df_tip.drop('VendorID', axis=1, inplace=True)\n",
    "df_tip.drop('Store_and_fwd_flag', axis=1, inplace=True)\n",
    "df_tip.drop('RateCodeID', axis=1, inplace=True)\n",
    "df_tip.drop('Pickup_longitude', axis=1, inplace=True)\n",
    "df_tip.drop('Pickup_latitude', axis=1, inplace=True)\n",
    "df_tip.drop('Dropoff_longitude', axis=1, inplace=True)\n",
    "df_tip.drop('Dropoff_latitude', axis=1, inplace=True)\n",
    "df_tip.drop('MTA_tax', axis=1, inplace=True)\n",
    "df_tip.drop('Extra', axis=1, inplace=True)\n",
    "df_tip.drop('improvement_surcharge', axis=1, inplace=True)\n",
    "df_tip.drop('Trip_type ', axis=1, inplace=True) "
   ]
  },
  {
   "cell_type": "markdown",
   "metadata": {
    "collapsed": false
   },
   "source": [
    "### Some helper functions to add time duration feature as it might be an important feature for our predictve model"
   ]
  },
  {
   "cell_type": "code",
   "execution_count": 25,
   "metadata": {
    "collapsed": false
   },
   "outputs": [],
   "source": [
    "# Helper function to Convert timestamp into time in seconds\n",
    "def convert_time_seconds(x):\n",
    "    return ((int(x.split(' ')[1].split(':')[0]) * 3600) +\n",
    "            (int(x.split(' ')[1].split(':')[1]) * 60) + \n",
    "            int(x.split(' ')[1].split(':')[2]))\n",
    "\n",
    "# Helper function to find time duration of trip from pickup and dropoff time\n",
    "def trip_duration_computation(x):\n",
    "    return x['dropoff_time_seconds'] - x['pickup_time_seconds']"
   ]
  },
  {
   "cell_type": "markdown",
   "metadata": {},
   "source": [
    "### Making time duration fetaure"
   ]
  },
  {
   "cell_type": "code",
   "execution_count": 26,
   "metadata": {
    "collapsed": false,
    "scrolled": true
   },
   "outputs": [],
   "source": [
    "# Making two new columns of time in seconds\n",
    "df_tip['pickup_time_seconds'] = df_tip['lpep_pickup_datetime'].apply(convert_time_seconds)\n",
    "df_tip['dropoff_time_seconds'] = df_tip['Lpep_dropoff_datetime'].apply(convert_time_seconds)\n",
    "\n",
    "# Trip duration column creation\n",
    "df_tip['trip_duration'] = df_tip.apply(trip_duration_computation, axis=1)\n",
    "\n",
    "# We don't need these columns now\n",
    "df_tip.drop('Lpep_dropoff_datetime', axis=1, inplace=True)\n",
    "df_tip.drop('lpep_pickup_datetime', axis=1, inplace=True)\n",
    "df_tip.drop('pickup_time_seconds', axis=1, inplace=True)\n",
    "df_tip.drop('dropoff_time_seconds', axis=1, inplace=True)\n",
    "df_tip.drop('Tip_amount', axis=1, inplace=True)"
   ]
  },
  {
   "cell_type": "code",
   "execution_count": 27,
   "metadata": {
    "collapsed": false,
    "scrolled": true
   },
   "outputs": [
    {
     "data": {
      "text/html": [
       "<div>\n",
       "<table border=\"1\" class=\"dataframe\">\n",
       "  <thead>\n",
       "    <tr style=\"text-align: right;\">\n",
       "      <th></th>\n",
       "      <th>Passenger_count</th>\n",
       "      <th>Trip_distance</th>\n",
       "      <th>Fare_amount</th>\n",
       "      <th>Tolls_amount</th>\n",
       "      <th>Total_amount</th>\n",
       "      <th>Payment_type</th>\n",
       "      <th>Tip_percentage</th>\n",
       "      <th>trip_duration</th>\n",
       "    </tr>\n",
       "  </thead>\n",
       "  <tbody>\n",
       "    <tr>\n",
       "      <th>2</th>\n",
       "      <td>1</td>\n",
       "      <td>0.59</td>\n",
       "      <td>4.0</td>\n",
       "      <td>0.0</td>\n",
       "      <td>5.80</td>\n",
       "      <td>1</td>\n",
       "      <td>12.500000</td>\n",
       "      <td>154</td>\n",
       "    </tr>\n",
       "    <tr>\n",
       "      <th>5</th>\n",
       "      <td>1</td>\n",
       "      <td>1.07</td>\n",
       "      <td>5.5</td>\n",
       "      <td>0.0</td>\n",
       "      <td>8.16</td>\n",
       "      <td>1</td>\n",
       "      <td>24.727273</td>\n",
       "      <td>281</td>\n",
       "    </tr>\n",
       "    <tr>\n",
       "      <th>6</th>\n",
       "      <td>1</td>\n",
       "      <td>1.43</td>\n",
       "      <td>6.5</td>\n",
       "      <td>0.0</td>\n",
       "      <td>7.80</td>\n",
       "      <td>1</td>\n",
       "      <td>40.040340</td>\n",
       "      <td>298</td>\n",
       "    </tr>\n",
       "    <tr>\n",
       "      <th>8</th>\n",
       "      <td>1</td>\n",
       "      <td>1.33</td>\n",
       "      <td>6.0</td>\n",
       "      <td>0.0</td>\n",
       "      <td>8.76</td>\n",
       "      <td>1</td>\n",
       "      <td>24.333333</td>\n",
       "      <td>284</td>\n",
       "    </tr>\n",
       "    <tr>\n",
       "      <th>11</th>\n",
       "      <td>1</td>\n",
       "      <td>0.70</td>\n",
       "      <td>4.0</td>\n",
       "      <td>0.0</td>\n",
       "      <td>6.36</td>\n",
       "      <td>1</td>\n",
       "      <td>26.500000</td>\n",
       "      <td>126</td>\n",
       "    </tr>\n",
       "  </tbody>\n",
       "</table>\n",
       "</div>"
      ],
      "text/plain": [
       "    Passenger_count  Trip_distance  Fare_amount  Tolls_amount  Total_amount  \\\n",
       "2                 1           0.59          4.0           0.0          5.80   \n",
       "5                 1           1.07          5.5           0.0          8.16   \n",
       "6                 1           1.43          6.5           0.0          7.80   \n",
       "8                 1           1.33          6.0           0.0          8.76   \n",
       "11                1           0.70          4.0           0.0          6.36   \n",
       "\n",
       "    Payment_type  Tip_percentage  trip_duration  \n",
       "2              1       12.500000            154  \n",
       "5              1       24.727273            281  \n",
       "6              1       40.040340            298  \n",
       "8              1       24.333333            284  \n",
       "11             1       26.500000            126  "
      ]
     },
     "execution_count": 27,
     "metadata": {},
     "output_type": "execute_result"
    }
   ],
   "source": [
    "# Showing top 5 smaples\n",
    "df_tip.head()"
   ]
  },
  {
   "cell_type": "markdown",
   "metadata": {},
   "source": [
    "## Build the model using Scikit-Learn Random Forest Regressor"
   ]
  },
  {
   "cell_type": "markdown",
   "metadata": {
    "collapsed": false
   },
   "source": [
    "### Split data into training and test dataset"
   ]
  },
  {
   "cell_type": "code",
   "execution_count": 28,
   "metadata": {
    "collapsed": true
   },
   "outputs": [],
   "source": [
    "train_df_tip, test_df_tip = train_test_split(df_tip, test_size = 0.2)\n",
    "# df_tip.drop('Total_amount', axis=1, inplace=True)"
   ]
  },
  {
   "cell_type": "code",
   "execution_count": 29,
   "metadata": {
    "collapsed": false
   },
   "outputs": [
    {
     "name": "stdout",
     "output_type": "stream",
     "text": [
      "((559196, 8), (139799, 8))\n"
     ]
    }
   ],
   "source": [
    "print(train_df_tip.shape, test_df_tip.shape)"
   ]
  },
  {
   "cell_type": "markdown",
   "metadata": {},
   "source": [
    "### Dividing training and testing data into features and target variable"
   ]
  },
  {
   "cell_type": "code",
   "execution_count": 30,
   "metadata": {
    "collapsed": false
   },
   "outputs": [
    {
     "name": "stdout",
     "output_type": "stream",
     "text": [
      "Number of training samples: 559196, Number of training features: 7 \n",
      "Number of testing samples: 139799, Number of testing features: 7 \n"
     ]
    }
   ],
   "source": [
    "X_full_train = train_df_tip.ix[:, train_df_tip.columns != 'Tip_percentage'].values \n",
    "y_full_train = train_df_tip['Tip_percentage'].values\n",
    "\n",
    "X_full_test = test_df_tip.ix[:, test_df_tip.columns != 'Tip_percentage'].values \n",
    "y_full_test = test_df_tip['Tip_percentage'].values\n",
    "\n",
    "n_samples_train = X_full_train.shape[0]\n",
    "n_features_train = X_full_train.shape[1]\n",
    "\n",
    "n_samples_test = X_full_test.shape[0]\n",
    "n_features_test = X_full_test.shape[1]\n",
    "\n",
    "# Printing number of samples\n",
    "print(\"Number of training samples: {}, Number of training features: {} \".format(n_samples_train, n_features_train))\n",
    "print(\"Number of testing samples: {}, Number of testing features: {} \".format(n_samples_test, n_features_test))"
   ]
  },
  {
   "cell_type": "code",
   "execution_count": 31,
   "metadata": {
    "collapsed": false
   },
   "outputs": [],
   "source": [
    "# X_full_train = X_full_train[:10000]\n",
    "# y_full_train = y_full_train[:10000]"
   ]
  },
  {
   "cell_type": "markdown",
   "metadata": {},
   "source": [
    "## Cross Validating model with all training data"
   ]
  },
  {
   "cell_type": "code",
   "execution_count": 32,
   "metadata": {
    "collapsed": false
   },
   "outputs": [],
   "source": [
    "# Estimate the score on the entire training dataset\n",
    "estimator = RandomForestRegressor(random_state=0, n_estimators=256)\n",
    "random_forest_score = cross_val_score(estimator, X_full_train, y_full_train)"
   ]
  },
  {
   "cell_type": "code",
   "execution_count": 33,
   "metadata": {
    "collapsed": false
   },
   "outputs": [
    {
     "name": "stdout",
     "output_type": "stream",
     "text": [
      "Mean Score with the entire dataset = 0.93\n"
     ]
    }
   ],
   "source": [
    "print(\"Mean Score with the entire dataset = %.2f\" % random_forest_score.mean())"
   ]
  },
  {
   "cell_type": "markdown",
   "metadata": {},
   "source": [
    "### Fit the model with training data set"
   ]
  },
  {
   "cell_type": "code",
   "execution_count": 34,
   "metadata": {
    "collapsed": false
   },
   "outputs": [
    {
     "data": {
      "text/plain": [
       "RandomForestRegressor(bootstrap=True, criterion='mse', max_depth=None,\n",
       "           max_features='auto', max_leaf_nodes=None,\n",
       "           min_impurity_split=1e-07, min_samples_leaf=1,\n",
       "           min_samples_split=2, min_weight_fraction_leaf=0.0,\n",
       "           n_estimators=256, n_jobs=1, oob_score=False, random_state=0,\n",
       "           verbose=0, warm_start=False)"
      ]
     },
     "execution_count": 34,
     "metadata": {},
     "output_type": "execute_result"
    }
   ],
   "source": [
    "estimator.fit(X_full_train, y_full_train)"
   ]
  },
  {
   "cell_type": "markdown",
   "metadata": {},
   "source": [
    "### Calculate score of test data"
   ]
  },
  {
   "cell_type": "code",
   "execution_count": 36,
   "metadata": {
    "collapsed": false
   },
   "outputs": [
    {
     "data": {
      "text/plain": [
       "0.56483570110214554"
      ]
     },
     "execution_count": 36,
     "metadata": {},
     "output_type": "execute_result"
    }
   ],
   "source": [
    "estimator.score(X_full_test, y_full_test)"
   ]
  },
  {
   "cell_type": "markdown",
   "metadata": {},
   "source": [
    "# Question 5 Option A: Distributions"
   ]
  },
  {
   "cell_type": "markdown",
   "metadata": {},
   "source": [
    "## Part-1 - Building derived variable representing the average speed over the course of a trip."
   ]
  },
  {
   "cell_type": "code",
   "execution_count": 37,
   "metadata": {
    "collapsed": false
   },
   "outputs": [],
   "source": [
    "# Make a copy so that we don't change the original data frame\n",
    "df_speed = df.copy()"
   ]
  },
  {
   "cell_type": "code",
   "execution_count": 38,
   "metadata": {
    "collapsed": false
   },
   "outputs": [],
   "source": [
    "# Making time columns in seconds\n",
    "df_speed['pickup_time_seconds'] = df_speed['lpep_pickup_datetime'].apply(convert_time_seconds)\n",
    "df_speed['dropoff_time_seconds'] = df_speed['Lpep_dropoff_datetime'].apply(convert_time_seconds)"
   ]
  },
  {
   "cell_type": "code",
   "execution_count": 39,
   "metadata": {
    "collapsed": false
   },
   "outputs": [],
   "source": [
    "# Making time duration column\n",
    "df_speed['trip_duration_seconds'] = df_speed.apply(trip_duration_computation, axis=1)"
   ]
  },
  {
   "cell_type": "code",
   "execution_count": 40,
   "metadata": {
    "collapsed": false
   },
   "outputs": [],
   "source": [
    "# Claening some data to keep samples only with positive distances\n",
    "# and with positive velocity\n",
    "df_speed = df_speed[(df_speed['Trip_distance'] > 0.0)]\n",
    "df_speed = df_speed[df_speed['trip_duration_seconds'] > 0.0]"
   ]
  },
  {
   "cell_type": "code",
   "execution_count": 41,
   "metadata": {
    "collapsed": false
   },
   "outputs": [
    {
     "data": {
      "text/html": [
       "<div>\n",
       "<table border=\"1\" class=\"dataframe\">\n",
       "  <thead>\n",
       "    <tr style=\"text-align: right;\">\n",
       "      <th></th>\n",
       "      <th>VendorID</th>\n",
       "      <th>lpep_pickup_datetime</th>\n",
       "      <th>Lpep_dropoff_datetime</th>\n",
       "      <th>Store_and_fwd_flag</th>\n",
       "      <th>RateCodeID</th>\n",
       "      <th>Pickup_longitude</th>\n",
       "      <th>Pickup_latitude</th>\n",
       "      <th>Dropoff_longitude</th>\n",
       "      <th>Dropoff_latitude</th>\n",
       "      <th>Passenger_count</th>\n",
       "      <th>...</th>\n",
       "      <th>Tip_amount</th>\n",
       "      <th>Tolls_amount</th>\n",
       "      <th>Ehail_fee</th>\n",
       "      <th>improvement_surcharge</th>\n",
       "      <th>Total_amount</th>\n",
       "      <th>Payment_type</th>\n",
       "      <th>Trip_type</th>\n",
       "      <th>pickup_time_seconds</th>\n",
       "      <th>dropoff_time_seconds</th>\n",
       "      <th>trip_duration_seconds</th>\n",
       "    </tr>\n",
       "  </thead>\n",
       "  <tbody>\n",
       "    <tr>\n",
       "      <th>2</th>\n",
       "      <td>2</td>\n",
       "      <td>2015-09-01 00:01:50</td>\n",
       "      <td>2015-09-01 00:04:24</td>\n",
       "      <td>N</td>\n",
       "      <td>1</td>\n",
       "      <td>-73.921410</td>\n",
       "      <td>40.766708</td>\n",
       "      <td>-73.914413</td>\n",
       "      <td>40.764687</td>\n",
       "      <td>1</td>\n",
       "      <td>...</td>\n",
       "      <td>0.50</td>\n",
       "      <td>0.0</td>\n",
       "      <td>NaN</td>\n",
       "      <td>0.3</td>\n",
       "      <td>5.80</td>\n",
       "      <td>1</td>\n",
       "      <td>1.0</td>\n",
       "      <td>110</td>\n",
       "      <td>264</td>\n",
       "      <td>154</td>\n",
       "    </tr>\n",
       "    <tr>\n",
       "      <th>3</th>\n",
       "      <td>2</td>\n",
       "      <td>2015-09-01 00:02:36</td>\n",
       "      <td>2015-09-01 00:06:42</td>\n",
       "      <td>N</td>\n",
       "      <td>1</td>\n",
       "      <td>-73.921387</td>\n",
       "      <td>40.766678</td>\n",
       "      <td>-73.931427</td>\n",
       "      <td>40.771584</td>\n",
       "      <td>1</td>\n",
       "      <td>...</td>\n",
       "      <td>0.00</td>\n",
       "      <td>0.0</td>\n",
       "      <td>NaN</td>\n",
       "      <td>0.3</td>\n",
       "      <td>6.30</td>\n",
       "      <td>2</td>\n",
       "      <td>1.0</td>\n",
       "      <td>156</td>\n",
       "      <td>402</td>\n",
       "      <td>246</td>\n",
       "    </tr>\n",
       "    <tr>\n",
       "      <th>4</th>\n",
       "      <td>2</td>\n",
       "      <td>2015-09-01 00:00:14</td>\n",
       "      <td>2015-09-01 00:04:20</td>\n",
       "      <td>N</td>\n",
       "      <td>1</td>\n",
       "      <td>-73.955482</td>\n",
       "      <td>40.714046</td>\n",
       "      <td>-73.944412</td>\n",
       "      <td>40.714729</td>\n",
       "      <td>1</td>\n",
       "      <td>...</td>\n",
       "      <td>0.00</td>\n",
       "      <td>0.0</td>\n",
       "      <td>NaN</td>\n",
       "      <td>0.3</td>\n",
       "      <td>6.30</td>\n",
       "      <td>2</td>\n",
       "      <td>1.0</td>\n",
       "      <td>14</td>\n",
       "      <td>260</td>\n",
       "      <td>246</td>\n",
       "    </tr>\n",
       "    <tr>\n",
       "      <th>5</th>\n",
       "      <td>2</td>\n",
       "      <td>2015-09-01 00:00:39</td>\n",
       "      <td>2015-09-01 00:05:20</td>\n",
       "      <td>N</td>\n",
       "      <td>1</td>\n",
       "      <td>-73.945297</td>\n",
       "      <td>40.808186</td>\n",
       "      <td>-73.937668</td>\n",
       "      <td>40.821198</td>\n",
       "      <td>1</td>\n",
       "      <td>...</td>\n",
       "      <td>1.36</td>\n",
       "      <td>0.0</td>\n",
       "      <td>NaN</td>\n",
       "      <td>0.3</td>\n",
       "      <td>8.16</td>\n",
       "      <td>1</td>\n",
       "      <td>1.0</td>\n",
       "      <td>39</td>\n",
       "      <td>320</td>\n",
       "      <td>281</td>\n",
       "    </tr>\n",
       "    <tr>\n",
       "      <th>6</th>\n",
       "      <td>2</td>\n",
       "      <td>2015-09-01 00:00:52</td>\n",
       "      <td>2015-09-01 00:05:50</td>\n",
       "      <td>N</td>\n",
       "      <td>1</td>\n",
       "      <td>-73.890877</td>\n",
       "      <td>40.746426</td>\n",
       "      <td>-73.876923</td>\n",
       "      <td>40.756306</td>\n",
       "      <td>1</td>\n",
       "      <td>...</td>\n",
       "      <td>0.00</td>\n",
       "      <td>0.0</td>\n",
       "      <td>NaN</td>\n",
       "      <td>0.3</td>\n",
       "      <td>7.80</td>\n",
       "      <td>1</td>\n",
       "      <td>1.0</td>\n",
       "      <td>52</td>\n",
       "      <td>350</td>\n",
       "      <td>298</td>\n",
       "    </tr>\n",
       "  </tbody>\n",
       "</table>\n",
       "<p>5 rows × 24 columns</p>\n",
       "</div>"
      ],
      "text/plain": [
       "   VendorID lpep_pickup_datetime Lpep_dropoff_datetime Store_and_fwd_flag  \\\n",
       "2         2  2015-09-01 00:01:50   2015-09-01 00:04:24                  N   \n",
       "3         2  2015-09-01 00:02:36   2015-09-01 00:06:42                  N   \n",
       "4         2  2015-09-01 00:00:14   2015-09-01 00:04:20                  N   \n",
       "5         2  2015-09-01 00:00:39   2015-09-01 00:05:20                  N   \n",
       "6         2  2015-09-01 00:00:52   2015-09-01 00:05:50                  N   \n",
       "\n",
       "   RateCodeID  Pickup_longitude  Pickup_latitude  Dropoff_longitude  \\\n",
       "2           1        -73.921410        40.766708         -73.914413   \n",
       "3           1        -73.921387        40.766678         -73.931427   \n",
       "4           1        -73.955482        40.714046         -73.944412   \n",
       "5           1        -73.945297        40.808186         -73.937668   \n",
       "6           1        -73.890877        40.746426         -73.876923   \n",
       "\n",
       "   Dropoff_latitude  Passenger_count          ...            Tip_amount  \\\n",
       "2         40.764687                1          ...                  0.50   \n",
       "3         40.771584                1          ...                  0.00   \n",
       "4         40.714729                1          ...                  0.00   \n",
       "5         40.821198                1          ...                  1.36   \n",
       "6         40.756306                1          ...                  0.00   \n",
       "\n",
       "   Tolls_amount  Ehail_fee  improvement_surcharge  Total_amount  Payment_type  \\\n",
       "2           0.0        NaN                    0.3          5.80             1   \n",
       "3           0.0        NaN                    0.3          6.30             2   \n",
       "4           0.0        NaN                    0.3          6.30             2   \n",
       "5           0.0        NaN                    0.3          8.16             1   \n",
       "6           0.0        NaN                    0.3          7.80             1   \n",
       "\n",
       "   Trip_type   pickup_time_seconds  dropoff_time_seconds  \\\n",
       "2         1.0                  110                   264   \n",
       "3         1.0                  156                   402   \n",
       "4         1.0                   14                   260   \n",
       "5         1.0                   39                   320   \n",
       "6         1.0                   52                   350   \n",
       "\n",
       "   trip_duration_seconds  \n",
       "2                    154  \n",
       "3                    246  \n",
       "4                    246  \n",
       "5                    281  \n",
       "6                    298  \n",
       "\n",
       "[5 rows x 24 columns]"
      ]
     },
     "execution_count": 41,
     "metadata": {},
     "output_type": "execute_result"
    }
   ],
   "source": [
    "df_speed.head()"
   ]
  },
  {
   "cell_type": "markdown",
   "metadata": {},
   "source": [
    "## Average Speed Computation in m/s (meter/second)"
   ]
  },
  {
   "cell_type": "code",
   "execution_count": 42,
   "metadata": {
    "collapsed": false
   },
   "outputs": [],
   "source": [
    "# Helper function to compute \n",
    "def velocity_computation(x):\n",
    "    return x['Trip_distance'] * 1609.344 / x['trip_duration_seconds']\n",
    "\n",
    "df_speed['Average_speed'] = df_speed.apply(velocity_computation ,axis = 1)"
   ]
  },
  {
   "cell_type": "code",
   "execution_count": 43,
   "metadata": {
    "collapsed": false
   },
   "outputs": [
    {
     "data": {
      "text/html": [
       "<div>\n",
       "<table border=\"1\" class=\"dataframe\">\n",
       "  <thead>\n",
       "    <tr style=\"text-align: right;\">\n",
       "      <th></th>\n",
       "      <th>VendorID</th>\n",
       "      <th>lpep_pickup_datetime</th>\n",
       "      <th>Lpep_dropoff_datetime</th>\n",
       "      <th>Store_and_fwd_flag</th>\n",
       "      <th>RateCodeID</th>\n",
       "      <th>Pickup_longitude</th>\n",
       "      <th>Pickup_latitude</th>\n",
       "      <th>Dropoff_longitude</th>\n",
       "      <th>Dropoff_latitude</th>\n",
       "      <th>Passenger_count</th>\n",
       "      <th>...</th>\n",
       "      <th>Tolls_amount</th>\n",
       "      <th>Ehail_fee</th>\n",
       "      <th>improvement_surcharge</th>\n",
       "      <th>Total_amount</th>\n",
       "      <th>Payment_type</th>\n",
       "      <th>Trip_type</th>\n",
       "      <th>pickup_time_seconds</th>\n",
       "      <th>dropoff_time_seconds</th>\n",
       "      <th>trip_duration_seconds</th>\n",
       "      <th>Average_speed</th>\n",
       "    </tr>\n",
       "  </thead>\n",
       "  <tbody>\n",
       "    <tr>\n",
       "      <th>2</th>\n",
       "      <td>2</td>\n",
       "      <td>2015-09-01 00:01:50</td>\n",
       "      <td>2015-09-01 00:04:24</td>\n",
       "      <td>N</td>\n",
       "      <td>1</td>\n",
       "      <td>-73.921410</td>\n",
       "      <td>40.766708</td>\n",
       "      <td>-73.914413</td>\n",
       "      <td>40.764687</td>\n",
       "      <td>1</td>\n",
       "      <td>...</td>\n",
       "      <td>0.0</td>\n",
       "      <td>NaN</td>\n",
       "      <td>0.3</td>\n",
       "      <td>5.80</td>\n",
       "      <td>1</td>\n",
       "      <td>1.0</td>\n",
       "      <td>110</td>\n",
       "      <td>264</td>\n",
       "      <td>154</td>\n",
       "      <td>6.165669</td>\n",
       "    </tr>\n",
       "    <tr>\n",
       "      <th>3</th>\n",
       "      <td>2</td>\n",
       "      <td>2015-09-01 00:02:36</td>\n",
       "      <td>2015-09-01 00:06:42</td>\n",
       "      <td>N</td>\n",
       "      <td>1</td>\n",
       "      <td>-73.921387</td>\n",
       "      <td>40.766678</td>\n",
       "      <td>-73.931427</td>\n",
       "      <td>40.771584</td>\n",
       "      <td>1</td>\n",
       "      <td>...</td>\n",
       "      <td>0.0</td>\n",
       "      <td>NaN</td>\n",
       "      <td>0.3</td>\n",
       "      <td>6.30</td>\n",
       "      <td>2</td>\n",
       "      <td>1.0</td>\n",
       "      <td>156</td>\n",
       "      <td>402</td>\n",
       "      <td>246</td>\n",
       "      <td>4.841116</td>\n",
       "    </tr>\n",
       "    <tr>\n",
       "      <th>4</th>\n",
       "      <td>2</td>\n",
       "      <td>2015-09-01 00:00:14</td>\n",
       "      <td>2015-09-01 00:04:20</td>\n",
       "      <td>N</td>\n",
       "      <td>1</td>\n",
       "      <td>-73.955482</td>\n",
       "      <td>40.714046</td>\n",
       "      <td>-73.944412</td>\n",
       "      <td>40.714729</td>\n",
       "      <td>1</td>\n",
       "      <td>...</td>\n",
       "      <td>0.0</td>\n",
       "      <td>NaN</td>\n",
       "      <td>0.3</td>\n",
       "      <td>6.30</td>\n",
       "      <td>2</td>\n",
       "      <td>1.0</td>\n",
       "      <td>14</td>\n",
       "      <td>260</td>\n",
       "      <td>246</td>\n",
       "      <td>3.990650</td>\n",
       "    </tr>\n",
       "    <tr>\n",
       "      <th>5</th>\n",
       "      <td>2</td>\n",
       "      <td>2015-09-01 00:00:39</td>\n",
       "      <td>2015-09-01 00:05:20</td>\n",
       "      <td>N</td>\n",
       "      <td>1</td>\n",
       "      <td>-73.945297</td>\n",
       "      <td>40.808186</td>\n",
       "      <td>-73.937668</td>\n",
       "      <td>40.821198</td>\n",
       "      <td>1</td>\n",
       "      <td>...</td>\n",
       "      <td>0.0</td>\n",
       "      <td>NaN</td>\n",
       "      <td>0.3</td>\n",
       "      <td>8.16</td>\n",
       "      <td>1</td>\n",
       "      <td>1.0</td>\n",
       "      <td>39</td>\n",
       "      <td>320</td>\n",
       "      <td>281</td>\n",
       "      <td>6.128107</td>\n",
       "    </tr>\n",
       "    <tr>\n",
       "      <th>6</th>\n",
       "      <td>2</td>\n",
       "      <td>2015-09-01 00:00:52</td>\n",
       "      <td>2015-09-01 00:05:50</td>\n",
       "      <td>N</td>\n",
       "      <td>1</td>\n",
       "      <td>-73.890877</td>\n",
       "      <td>40.746426</td>\n",
       "      <td>-73.876923</td>\n",
       "      <td>40.756306</td>\n",
       "      <td>1</td>\n",
       "      <td>...</td>\n",
       "      <td>0.0</td>\n",
       "      <td>NaN</td>\n",
       "      <td>0.3</td>\n",
       "      <td>7.80</td>\n",
       "      <td>1</td>\n",
       "      <td>1.0</td>\n",
       "      <td>52</td>\n",
       "      <td>350</td>\n",
       "      <td>298</td>\n",
       "      <td>7.722691</td>\n",
       "    </tr>\n",
       "  </tbody>\n",
       "</table>\n",
       "<p>5 rows × 25 columns</p>\n",
       "</div>"
      ],
      "text/plain": [
       "   VendorID lpep_pickup_datetime Lpep_dropoff_datetime Store_and_fwd_flag  \\\n",
       "2         2  2015-09-01 00:01:50   2015-09-01 00:04:24                  N   \n",
       "3         2  2015-09-01 00:02:36   2015-09-01 00:06:42                  N   \n",
       "4         2  2015-09-01 00:00:14   2015-09-01 00:04:20                  N   \n",
       "5         2  2015-09-01 00:00:39   2015-09-01 00:05:20                  N   \n",
       "6         2  2015-09-01 00:00:52   2015-09-01 00:05:50                  N   \n",
       "\n",
       "   RateCodeID  Pickup_longitude  Pickup_latitude  Dropoff_longitude  \\\n",
       "2           1        -73.921410        40.766708         -73.914413   \n",
       "3           1        -73.921387        40.766678         -73.931427   \n",
       "4           1        -73.955482        40.714046         -73.944412   \n",
       "5           1        -73.945297        40.808186         -73.937668   \n",
       "6           1        -73.890877        40.746426         -73.876923   \n",
       "\n",
       "   Dropoff_latitude  Passenger_count      ...        Tolls_amount  Ehail_fee  \\\n",
       "2         40.764687                1      ...                 0.0        NaN   \n",
       "3         40.771584                1      ...                 0.0        NaN   \n",
       "4         40.714729                1      ...                 0.0        NaN   \n",
       "5         40.821198                1      ...                 0.0        NaN   \n",
       "6         40.756306                1      ...                 0.0        NaN   \n",
       "\n",
       "   improvement_surcharge  Total_amount  Payment_type  Trip_type   \\\n",
       "2                    0.3          5.80             1         1.0   \n",
       "3                    0.3          6.30             2         1.0   \n",
       "4                    0.3          6.30             2         1.0   \n",
       "5                    0.3          8.16             1         1.0   \n",
       "6                    0.3          7.80             1         1.0   \n",
       "\n",
       "   pickup_time_seconds  dropoff_time_seconds  trip_duration_seconds  \\\n",
       "2                  110                   264                    154   \n",
       "3                  156                   402                    246   \n",
       "4                   14                   260                    246   \n",
       "5                   39                   320                    281   \n",
       "6                   52                   350                    298   \n",
       "\n",
       "   Average_speed  \n",
       "2       6.165669  \n",
       "3       4.841116  \n",
       "4       3.990650  \n",
       "5       6.128107  \n",
       "6       7.722691  \n",
       "\n",
       "[5 rows x 25 columns]"
      ]
     },
     "execution_count": 43,
     "metadata": {},
     "output_type": "execute_result"
    }
   ],
   "source": [
    "df_speed.head()"
   ]
  },
  {
   "cell_type": "markdown",
   "metadata": {},
   "source": [
    "## Part-2  - Test to determine if the average trip speeds are materially the same in all weeks of September"
   ]
  },
  {
   "cell_type": "code",
   "execution_count": 44,
   "metadata": {
    "collapsed": false
   },
   "outputs": [],
   "source": [
    "# Helper function to compute the week number\n",
    "def week_computation(x):\n",
    "    day = int(x['lpep_pickup_datetime'].split(' ')[0].split('-')[2])\n",
    "    if(day in range(1,8)):\n",
    "        return 1\n",
    "    elif(day in range(8,15)):\n",
    "        return 2\n",
    "    elif(day in range(15, 22)):\n",
    "        return 3\n",
    "    else:\n",
    "        return 4"
   ]
  },
  {
   "cell_type": "code",
   "execution_count": 45,
   "metadata": {
    "collapsed": true
   },
   "outputs": [],
   "source": [
    "# Apply the wee computation function to make a new column with week number\n",
    "df_speed['Week_number'] = df_speed.apply(week_computation, axis=1)"
   ]
  },
  {
   "cell_type": "markdown",
   "metadata": {},
   "source": [
    "## Find the average speed for all weeks"
   ]
  },
  {
   "cell_type": "code",
   "execution_count": 46,
   "metadata": {
    "collapsed": false,
    "scrolled": true
   },
   "outputs": [
    {
     "data": {
      "text/html": [
       "<div>\n",
       "<table border=\"1\" class=\"dataframe\">\n",
       "  <thead>\n",
       "    <tr style=\"text-align: right;\">\n",
       "      <th></th>\n",
       "      <th>Average_speed</th>\n",
       "    </tr>\n",
       "    <tr>\n",
       "      <th>Week_number</th>\n",
       "      <th></th>\n",
       "    </tr>\n",
       "  </thead>\n",
       "  <tbody>\n",
       "    <tr>\n",
       "      <th>1</th>\n",
       "      <td>7.378875</td>\n",
       "    </tr>\n",
       "    <tr>\n",
       "      <th>2</th>\n",
       "      <td>6.895124</td>\n",
       "    </tr>\n",
       "    <tr>\n",
       "      <th>3</th>\n",
       "      <td>6.943773</td>\n",
       "    </tr>\n",
       "    <tr>\n",
       "      <th>4</th>\n",
       "      <td>7.525499</td>\n",
       "    </tr>\n",
       "  </tbody>\n",
       "</table>\n",
       "</div>"
      ],
      "text/plain": [
       "             Average_speed\n",
       "Week_number               \n",
       "1                 7.378875\n",
       "2                 6.895124\n",
       "3                 6.943773\n",
       "4                 7.525499"
      ]
     },
     "execution_count": 46,
     "metadata": {},
     "output_type": "execute_result"
    }
   ],
   "source": [
    "pd.DataFrame(df_speed.groupby('Week_number')['Average_speed'].mean())"
   ]
  },
  {
   "cell_type": "markdown",
   "metadata": {},
   "source": [
    "### This shows that  in the first week and last week the trips tend to have more average speed."
   ]
  },
  {
   "cell_type": "markdown",
   "metadata": {},
   "source": [
    "## Part-3 - Average Trip Speed as a function of time of day?"
   ]
  },
  {
   "cell_type": "code",
   "execution_count": 48,
   "metadata": {
    "collapsed": false
   },
   "outputs": [
    {
     "data": {
      "text/html": [
       "<div>\n",
       "<table border=\"1\" class=\"dataframe\">\n",
       "  <thead>\n",
       "    <tr style=\"text-align: right;\">\n",
       "      <th></th>\n",
       "      <th>Hour</th>\n",
       "      <th>Average_speed</th>\n",
       "    </tr>\n",
       "  </thead>\n",
       "  <tbody>\n",
       "    <tr>\n",
       "      <th>0</th>\n",
       "      <td>0</td>\n",
       "      <td>8.001555</td>\n",
       "    </tr>\n",
       "    <tr>\n",
       "      <th>1</th>\n",
       "      <td>1</td>\n",
       "      <td>8.163479</td>\n",
       "    </tr>\n",
       "    <tr>\n",
       "      <th>2</th>\n",
       "      <td>2</td>\n",
       "      <td>8.448125</td>\n",
       "    </tr>\n",
       "    <tr>\n",
       "      <th>3</th>\n",
       "      <td>3</td>\n",
       "      <td>8.711868</td>\n",
       "    </tr>\n",
       "    <tr>\n",
       "      <th>4</th>\n",
       "      <td>4</td>\n",
       "      <td>8.915445</td>\n",
       "    </tr>\n",
       "    <tr>\n",
       "      <th>5</th>\n",
       "      <td>5</td>\n",
       "      <td>13.338739</td>\n",
       "    </tr>\n",
       "    <tr>\n",
       "      <th>6</th>\n",
       "      <td>6</td>\n",
       "      <td>9.531322</td>\n",
       "    </tr>\n",
       "    <tr>\n",
       "      <th>7</th>\n",
       "      <td>7</td>\n",
       "      <td>7.192546</td>\n",
       "    </tr>\n",
       "    <tr>\n",
       "      <th>8</th>\n",
       "      <td>8</td>\n",
       "      <td>7.054849</td>\n",
       "    </tr>\n",
       "    <tr>\n",
       "      <th>9</th>\n",
       "      <td>9</td>\n",
       "      <td>6.751018</td>\n",
       "    </tr>\n",
       "    <tr>\n",
       "      <th>10</th>\n",
       "      <td>10</td>\n",
       "      <td>6.986467</td>\n",
       "    </tr>\n",
       "    <tr>\n",
       "      <th>11</th>\n",
       "      <td>11</td>\n",
       "      <td>7.335026</td>\n",
       "    </tr>\n",
       "    <tr>\n",
       "      <th>12</th>\n",
       "      <td>12</td>\n",
       "      <td>7.115227</td>\n",
       "    </tr>\n",
       "    <tr>\n",
       "      <th>13</th>\n",
       "      <td>13</td>\n",
       "      <td>7.084101</td>\n",
       "    </tr>\n",
       "    <tr>\n",
       "      <th>14</th>\n",
       "      <td>14</td>\n",
       "      <td>6.090955</td>\n",
       "    </tr>\n",
       "    <tr>\n",
       "      <th>15</th>\n",
       "      <td>15</td>\n",
       "      <td>6.334784</td>\n",
       "    </tr>\n",
       "    <tr>\n",
       "      <th>16</th>\n",
       "      <td>16</td>\n",
       "      <td>6.239542</td>\n",
       "    </tr>\n",
       "    <tr>\n",
       "      <th>17</th>\n",
       "      <td>17</td>\n",
       "      <td>7.122112</td>\n",
       "    </tr>\n",
       "    <tr>\n",
       "      <th>18</th>\n",
       "      <td>18</td>\n",
       "      <td>6.254879</td>\n",
       "    </tr>\n",
       "    <tr>\n",
       "      <th>19</th>\n",
       "      <td>19</td>\n",
       "      <td>6.370225</td>\n",
       "    </tr>\n",
       "    <tr>\n",
       "      <th>20</th>\n",
       "      <td>20</td>\n",
       "      <td>6.639173</td>\n",
       "    </tr>\n",
       "    <tr>\n",
       "      <th>21</th>\n",
       "      <td>21</td>\n",
       "      <td>7.295788</td>\n",
       "    </tr>\n",
       "    <tr>\n",
       "      <th>22</th>\n",
       "      <td>22</td>\n",
       "      <td>7.459441</td>\n",
       "    </tr>\n",
       "    <tr>\n",
       "      <th>23</th>\n",
       "      <td>23</td>\n",
       "      <td>8.122363</td>\n",
       "    </tr>\n",
       "  </tbody>\n",
       "</table>\n",
       "</div>"
      ],
      "text/plain": [
       "    Hour  Average_speed\n",
       "0      0       8.001555\n",
       "1      1       8.163479\n",
       "2      2       8.448125\n",
       "3      3       8.711868\n",
       "4      4       8.915445\n",
       "5      5      13.338739\n",
       "6      6       9.531322\n",
       "7      7       7.192546\n",
       "8      8       7.054849\n",
       "9      9       6.751018\n",
       "10    10       6.986467\n",
       "11    11       7.335026\n",
       "12    12       7.115227\n",
       "13    13       7.084101\n",
       "14    14       6.090955\n",
       "15    15       6.334784\n",
       "16    16       6.239542\n",
       "17    17       7.122112\n",
       "18    18       6.254879\n",
       "19    19       6.370225\n",
       "20    20       6.639173\n",
       "21    21       7.295788\n",
       "22    22       7.459441\n",
       "23    23       8.122363"
      ]
     },
     "execution_count": 48,
     "metadata": {},
     "output_type": "execute_result"
    }
   ],
   "source": [
    "pd.DataFrame((df_speed.groupby(df_speed['lpep_pickup_datetime']\n",
    "                        .apply(lambda x: int(x.split(' ')[1].split(':')[0])))['Average_speed'].mean())\n",
    "                             .reset_index().rename(columns = {'lpep_pickup_datetime':'Hour'}))"
   ]
  },
  {
   "cell_type": "markdown",
   "metadata": {},
   "source": [
    "### From this we can say that trip Average Speed is usually fast when there is less traffic during early morning and late night which is what happens in real life. \n",
    "### Unsurprisingly during Earlymorning at 5 AM and 6 AM, the trips Average Speed is high."
   ]
  }
 ],
 "metadata": {
  "kernelspec": {
   "display_name": "Python 2",
   "language": "python",
   "name": "python2"
  },
  "language_info": {
   "codemirror_mode": {
    "name": "ipython",
    "version": 2
   },
   "file_extension": ".py",
   "mimetype": "text/x-python",
   "name": "python",
   "nbconvert_exporter": "python",
   "pygments_lexer": "ipython2",
   "version": "2.7.12"
  }
 },
 "nbformat": 4,
 "nbformat_minor": 0
}
